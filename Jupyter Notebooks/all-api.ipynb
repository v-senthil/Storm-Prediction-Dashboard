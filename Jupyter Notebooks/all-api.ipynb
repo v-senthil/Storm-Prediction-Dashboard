{
 "cells": [
  {
   "cell_type": "code",
   "execution_count": 1,
   "metadata": {},
   "outputs": [],
   "source": [
    "import certifi\n",
    "import pandas as pd\n",
    "import json\n",
    "import urllib3\n",
    "from urllib3 import request\n",
    "from urllib.request import urlopen\n",
    "import json\n",
    "import pandas as pd\n",
    "import plotly.express as px\n",
    "from datetime import date\n",
    "today = date.today()\n"
   ]
  },
  {
   "cell_type": "code",
   "execution_count": 5,
   "metadata": {},
   "outputs": [
    {
     "output_type": "execute_result",
     "data": {
      "text/plain": [
       "200"
      ]
     },
     "metadata": {},
     "execution_count": 5
    }
   ],
   "source": [
    "with urlopen('https://raw.githubusercontent.com/plotly/datasets/master/geojson-counties-fips.json') as response:\n",
    "    counties = json.load(response)\n",
    "state = 'NY'\n",
    "date = '2007-01-01'\n",
    "disaster = 'Snow'\n",
    "api_address=\"https://www.fema.gov/api/open/v2/DisasterDeclarationsSummaries?$filter=incidentType%20eq%20%27\"+disaster+\"%27%20and%20incidentBeginDate%20gt%20%27\"+date+\"T04:00:00.000z%27%20and%20state%20eq%20%27\"+state+\"%27\"\n",
    "http = urllib3.PoolManager(cert_reqs='CERT_REQUIRED',ca_certs=certifi.where())\n",
    "r = http.request('GET', api_address)\n",
    "r.status"
   ]
  },
  {
   "cell_type": "code",
   "execution_count": 18,
   "metadata": {
    "tags": []
   },
   "outputs": [],
   "source": [
    "# for the state of Wyoming - WY from 2019-01-01 -> No data is Present\n",
    "#Change it to Alabama - AL from 2019-01-01 to view data\n",
    "data = json.loads(r.data.decode('utf-8'))\n",
    "if data['DisasterDeclarationsSummaries'] == []:\n",
    "        error = \"No Data Avaliable in this Time Period for the state \"+state\n",
    "        print(error)    \n",
    "else:\n",
    "    df = pd.json_normalize(data, 'DisasterDeclarationsSummaries')\n",
    "    df['fips'] = df['fipsStateCode']+df['fipsCountyCode']\n",
    "    df['values'] = 1\n",
    "    df['incidentdate'] = df.declarationDate.str[:10]\n",
    "    # for date in df['incidentdate']:\n",
    "    #     if today == date:\n",
    "    #         print(\"Send Message\")\n",
    "    #     else:\n",
    "    #         print(\"No Message\")"
   ]
  },
  {
   "cell_type": "code",
   "execution_count": 22,
   "metadata": {},
   "outputs": [],
   "source": [
    "fig = px.choropleth_mapbox(df, geojson=counties, locations='fips',\n",
    "                            color_continuous_scale=\"Viridis\",\n",
    "                            range_color=(0, 12),\n",
    "                            mapbox_style=\"open-street-map\",\n",
    "                            zoom=3.5, center = {\"lat\": 37.0902, \"lon\": -95.7129},\n",
    "                            opacity=0.5,\n",
    "                            hover_name = df['designatedArea'],\n",
    "                            hover_data=[\"incidentType\", \"incidentdate\", \"declarationTitle\"]\n",
    "                            )\n",
    "fig.update_layout(margin={\"r\":0,\"t\":0,\"l\":0,\"b\":0})\n",
    "fig.show()"
   ]
  }
 ],
 "metadata": {
  "kernelspec": {
   "name": "python3",
   "display_name": "Python 3.9.1 64-bit",
   "metadata": {
    "interpreter": {
     "hash": "d62006d1f3422635846181a997a61e8ec3049f797e5d7dfe0cd1bb84092b7c19"
    }
   }
  },
  "language_info": {
   "codemirror_mode": {
    "name": "ipython",
    "version": 3
   },
   "file_extension": ".py",
   "mimetype": "text/x-python",
   "name": "python",
   "nbconvert_exporter": "python",
   "pygments_lexer": "ipython3",
   "version": "3.9.1-final"
  }
 },
 "nbformat": 4,
 "nbformat_minor": 4
}