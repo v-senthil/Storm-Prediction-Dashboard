{
 "cells": [
  {
   "cell_type": "code",
   "execution_count": 1,
   "metadata": {},
   "outputs": [],
   "source": [
    "import certifi\n",
    "import pandas as pd\n",
    "import json\n",
    "import urllib3\n",
    "from urllib3 import request\n",
    "from urllib.request import urlopen\n",
    "import json\n",
    "import pandas as pd\n",
    "import plotly.express as px\n",
    "from datetime import date\n",
    "today = date.today()\n"
   ]
  },
  {
   "cell_type": "code",
   "execution_count": 2,
   "metadata": {},
   "outputs": [
    {
     "output_type": "execute_result",
     "data": {
      "text/plain": [
       "200"
      ]
     },
     "metadata": {},
     "execution_count": 2
    }
   ],
   "source": [
    "with urlopen('https://raw.githubusercontent.com/plotly/datasets/master/geojson-counties-fips.json') as response:\n",
    "    counties = json.load(response)\n",
    "state = 'AL'\n",
    "api_address=\"https://www.fema.gov/api/open/v2/DisasterDeclarationsSummaries?$filter=incidentType%20eq%20%27Severe%20Storm(s)%27%20and%20state%20eq%20%27\"+state+\"%27\"\n",
    "http = urllib3.PoolManager(cert_reqs='CERT_REQUIRED',ca_certs=certifi.where())\n",
    "r = http.request('GET', api_address)\n",
    "r.status\n"
   ]
  },
  {
   "cell_type": "code",
   "execution_count": 3,
   "metadata": {},
   "outputs": [
    {
     "output_type": "execute_result",
     "data": {
      "text/plain": [
       "  femaDeclarationString  disasterNumber state declarationType  \\\n",
       "0             DR-285-AL             285    AL              DR   \n",
       "1             DR-285-AL             285    AL              DR   \n",
       "2             DR-488-AL             488    AL              DR   \n",
       "3             DR-488-AL             488    AL              DR   \n",
       "4             DR-488-AL             488    AL              DR   \n",
       "\n",
       "            declarationDate  fyDeclared     incidentType  \\\n",
       "0  1970-04-09T05:00:00.000Z        1970  Severe Storm(s)   \n",
       "1  1970-04-09T05:00:00.000Z        1970  Severe Storm(s)   \n",
       "2  1975-10-02T04:00:00.000Z        1976  Severe Storm(s)   \n",
       "3  1975-10-02T04:00:00.000Z        1976  Severe Storm(s)   \n",
       "4  1975-10-02T04:00:00.000Z        1976  Severe Storm(s)   \n",
       "\n",
       "                      declarationTitle  ihProgramDeclared  iaProgramDeclared  \\\n",
       "0    HEAVY RAINS, TORNADOES & FLOODING              False               True   \n",
       "1    HEAVY RAINS, TORNADOES & FLOODING              False               True   \n",
       "2  SEVERE STORMS, TORNADOES & FLOODING              False               True   \n",
       "3  SEVERE STORMS, TORNADOES & FLOODING              False               True   \n",
       "4  SEVERE STORMS, TORNADOES & FLOODING              False               True   \n",
       "\n",
       "   ...  fipsCountyCode  placeCode      designatedArea  \\\n",
       "0  ...             017      99017   Chambers (County)   \n",
       "1  ...             073      99073  Jefferson (County)   \n",
       "2  ...             011      99011    Bullock (County)   \n",
       "3  ...             017      99017   Chambers (County)   \n",
       "4  ...             031      99031     Coffee (County)   \n",
       "\n",
       "  declarationRequestNumber                              hash  \\\n",
       "0                    70012  6bd17396dd3aa727319451684000651b   \n",
       "1                    70012  21f251b9aeef581785e2fedc9d7a0493   \n",
       "2                    76020  4428073788d59d5101643a62c7d7e9f3   \n",
       "3                    76020  24692c0eed9fac2e61fc3925538ce01d   \n",
       "4                    76020  9fef756c2da3a7d09fdfb1f863c27123   \n",
       "\n",
       "                lastRefresh                        id   fips values  \\\n",
       "0  2020-10-05T14:21:23.497Z  5f7b2be331a8c6681cfb6103  01017      1   \n",
       "1  2020-10-05T14:21:23.499Z  5f7b2be331a8c6681cfb6117  01073      1   \n",
       "2  2020-10-05T14:21:27.642Z  5f7b2be731a8c6681cfb8f88  01011      1   \n",
       "3  2020-10-05T14:21:27.644Z  5f7b2be731a8c6681cfb8f8c  01017      1   \n",
       "4  2020-10-05T14:21:27.646Z  5f7b2be731a8c6681cfb8f96  01031      1   \n",
       "\n",
       "  incidentdate  \n",
       "0   1970-04-09  \n",
       "1   1970-04-09  \n",
       "2   1975-10-02  \n",
       "3   1975-10-02  \n",
       "4   1975-10-02  \n",
       "\n",
       "[5 rows x 26 columns]"
      ],
      "text/html": "<div>\n<style scoped>\n    .dataframe tbody tr th:only-of-type {\n        vertical-align: middle;\n    }\n\n    .dataframe tbody tr th {\n        vertical-align: top;\n    }\n\n    .dataframe thead th {\n        text-align: right;\n    }\n</style>\n<table border=\"1\" class=\"dataframe\">\n  <thead>\n    <tr style=\"text-align: right;\">\n      <th></th>\n      <th>femaDeclarationString</th>\n      <th>disasterNumber</th>\n      <th>state</th>\n      <th>declarationType</th>\n      <th>declarationDate</th>\n      <th>fyDeclared</th>\n      <th>incidentType</th>\n      <th>declarationTitle</th>\n      <th>ihProgramDeclared</th>\n      <th>iaProgramDeclared</th>\n      <th>...</th>\n      <th>fipsCountyCode</th>\n      <th>placeCode</th>\n      <th>designatedArea</th>\n      <th>declarationRequestNumber</th>\n      <th>hash</th>\n      <th>lastRefresh</th>\n      <th>id</th>\n      <th>fips</th>\n      <th>values</th>\n      <th>incidentdate</th>\n    </tr>\n  </thead>\n  <tbody>\n    <tr>\n      <th>0</th>\n      <td>DR-285-AL</td>\n      <td>285</td>\n      <td>AL</td>\n      <td>DR</td>\n      <td>1970-04-09T05:00:00.000Z</td>\n      <td>1970</td>\n      <td>Severe Storm(s)</td>\n      <td>HEAVY RAINS, TORNADOES &amp; FLOODING</td>\n      <td>False</td>\n      <td>True</td>\n      <td>...</td>\n      <td>017</td>\n      <td>99017</td>\n      <td>Chambers (County)</td>\n      <td>70012</td>\n      <td>6bd17396dd3aa727319451684000651b</td>\n      <td>2020-10-05T14:21:23.497Z</td>\n      <td>5f7b2be331a8c6681cfb6103</td>\n      <td>01017</td>\n      <td>1</td>\n      <td>1970-04-09</td>\n    </tr>\n    <tr>\n      <th>1</th>\n      <td>DR-285-AL</td>\n      <td>285</td>\n      <td>AL</td>\n      <td>DR</td>\n      <td>1970-04-09T05:00:00.000Z</td>\n      <td>1970</td>\n      <td>Severe Storm(s)</td>\n      <td>HEAVY RAINS, TORNADOES &amp; FLOODING</td>\n      <td>False</td>\n      <td>True</td>\n      <td>...</td>\n      <td>073</td>\n      <td>99073</td>\n      <td>Jefferson (County)</td>\n      <td>70012</td>\n      <td>21f251b9aeef581785e2fedc9d7a0493</td>\n      <td>2020-10-05T14:21:23.499Z</td>\n      <td>5f7b2be331a8c6681cfb6117</td>\n      <td>01073</td>\n      <td>1</td>\n      <td>1970-04-09</td>\n    </tr>\n    <tr>\n      <th>2</th>\n      <td>DR-488-AL</td>\n      <td>488</td>\n      <td>AL</td>\n      <td>DR</td>\n      <td>1975-10-02T04:00:00.000Z</td>\n      <td>1976</td>\n      <td>Severe Storm(s)</td>\n      <td>SEVERE STORMS, TORNADOES &amp; FLOODING</td>\n      <td>False</td>\n      <td>True</td>\n      <td>...</td>\n      <td>011</td>\n      <td>99011</td>\n      <td>Bullock (County)</td>\n      <td>76020</td>\n      <td>4428073788d59d5101643a62c7d7e9f3</td>\n      <td>2020-10-05T14:21:27.642Z</td>\n      <td>5f7b2be731a8c6681cfb8f88</td>\n      <td>01011</td>\n      <td>1</td>\n      <td>1975-10-02</td>\n    </tr>\n    <tr>\n      <th>3</th>\n      <td>DR-488-AL</td>\n      <td>488</td>\n      <td>AL</td>\n      <td>DR</td>\n      <td>1975-10-02T04:00:00.000Z</td>\n      <td>1976</td>\n      <td>Severe Storm(s)</td>\n      <td>SEVERE STORMS, TORNADOES &amp; FLOODING</td>\n      <td>False</td>\n      <td>True</td>\n      <td>...</td>\n      <td>017</td>\n      <td>99017</td>\n      <td>Chambers (County)</td>\n      <td>76020</td>\n      <td>24692c0eed9fac2e61fc3925538ce01d</td>\n      <td>2020-10-05T14:21:27.644Z</td>\n      <td>5f7b2be731a8c6681cfb8f8c</td>\n      <td>01017</td>\n      <td>1</td>\n      <td>1975-10-02</td>\n    </tr>\n    <tr>\n      <th>4</th>\n      <td>DR-488-AL</td>\n      <td>488</td>\n      <td>AL</td>\n      <td>DR</td>\n      <td>1975-10-02T04:00:00.000Z</td>\n      <td>1976</td>\n      <td>Severe Storm(s)</td>\n      <td>SEVERE STORMS, TORNADOES &amp; FLOODING</td>\n      <td>False</td>\n      <td>True</td>\n      <td>...</td>\n      <td>031</td>\n      <td>99031</td>\n      <td>Coffee (County)</td>\n      <td>76020</td>\n      <td>9fef756c2da3a7d09fdfb1f863c27123</td>\n      <td>2020-10-05T14:21:27.646Z</td>\n      <td>5f7b2be731a8c6681cfb8f96</td>\n      <td>01031</td>\n      <td>1</td>\n      <td>1975-10-02</td>\n    </tr>\n  </tbody>\n</table>\n<p>5 rows × 26 columns</p>\n</div>"
     },
     "metadata": {},
     "execution_count": 3
    }
   ],
   "source": [
    "# for the state of Wyoming - WY from 2019-01-01 -> No data is Present\n",
    "#Change it to Alabama - AL from 2019-01-01 to view data\n",
    "data = json.loads(r.data.decode('utf-8'))\n",
    "if data['DisasterDeclarationsSummaries'] == []:\n",
    "        error = \"No Data Avaliable in this Time Period for the state \"+state\n",
    "        print(error)    \n",
    "else:\n",
    "    df = pd.json_normalize(data, 'DisasterDeclarationsSummaries')\n",
    "df['fips'] = df['fipsStateCode']+df['fipsCountyCode']\n",
    "df['values'] = 1\n",
    "df['incidentdate'] = df.declarationDate.str[:10]\n",
    "df.head()\n",
    "# for date in df['incidentdate']:\n",
    "#     if today == date:\n",
    "#         print(\"Send Message\")\n",
    "#     else:\n",
    "#         print(\"No Message\")"
   ]
  },
  {
   "cell_type": "code",
   "execution_count": 5,
   "metadata": {},
   "outputs": [],
   "source": [
    "fig = px.choropleth_mapbox(df, geojson=counties, locations='fips',\n",
    "                            color_continuous_scale=\"Viridis\",\n",
    "                            range_color=(0, 12),\n",
    "                            mapbox_style=\"open-street-map\",\n",
    "                            zoom=3.5, center = {\"lat\": 37.0902, \"lon\": -95.7129},\n",
    "                            opacity=0.5,\n",
    "                            hover_name = df['designatedArea'],\n",
    "                            hover_data=[\"incidentdate\", \"declarationTitle\"]\n",
    "                            )\n",
    "fig.update_layout(margin={\"r\":0,\"t\":0,\"l\":0,\"b\":0})\n",
    "fig.show()"
   ]
  }
 ],
 "metadata": {
  "kernelspec": {
   "name": "python3",
   "display_name": "Python 3.9.1 64-bit",
   "metadata": {
    "interpreter": {
     "hash": "d62006d1f3422635846181a997a61e8ec3049f797e5d7dfe0cd1bb84092b7c19"
    }
   }
  },
  "language_info": {
   "codemirror_mode": {
    "name": "ipython",
    "version": 3
   },
   "file_extension": ".py",
   "mimetype": "text/x-python",
   "name": "python",
   "nbconvert_exporter": "python",
   "pygments_lexer": "ipython3",
   "version": "3.9.1-final"
  }
 },
 "nbformat": 4,
 "nbformat_minor": 4
}